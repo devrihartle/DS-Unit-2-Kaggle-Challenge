{
  "nbformat": 4,
  "nbformat_minor": 0,
  "metadata": {
    "kernelspec": {
      "display_name": "Python 3",
      "language": "python",
      "name": "python3"
    },
    "language_info": {
      "codemirror_mode": {
        "name": "ipython",
        "version": 3
      },
      "file_extension": ".py",
      "mimetype": "text/x-python",
      "name": "python",
      "nbconvert_exporter": "python",
      "pygments_lexer": "ipython3",
      "version": "3.7.3"
    },
    "colab": {
      "name": "Copy of LS_DS_224_assignment.ipynb",
      "provenance": [],
      "collapsed_sections": [],
      "include_colab_link": true
    }
  },
  "cells": [
    {
      "cell_type": "markdown",
      "metadata": {
        "id": "view-in-github",
        "colab_type": "text"
      },
      "source": [
        "<a href=\"https://colab.research.google.com/github/devrihartle/DS-Unit-2-Kaggle-Challenge/blob/master/Copy_of_LS_DS_224_assignment.ipynb\" target=\"_parent\"><img src=\"https://colab.research.google.com/assets/colab-badge.svg\" alt=\"Open In Colab\"/></a>"
      ]
    },
    {
      "cell_type": "markdown",
      "metadata": {
        "id": "tN3tFbZd6lPJ"
      },
      "source": [
        "Lambda School Data Science\n",
        "\n",
        "*Unit 2, Sprint 2, Module 4*\n",
        "\n",
        "---"
      ]
    },
    {
      "cell_type": "markdown",
      "metadata": {
        "id": "nCc3XZEyG3XV"
      },
      "source": [
        "# Classification Metrics\n",
        "\n",
        "## Assignment\n",
        "- [ ] If you haven't yet, [review requirements for your portfolio project](https://lambdaschool.github.io/ds/unit2), then submit your dataset.\n",
        "- [ ] Plot a confusion matrix for your Tanzania Waterpumps model.\n",
        "- [ ] Continue to participate in our Kaggle challenge. Every student should have made at least one submission that scores at least 70% accuracy (well above the majority class baseline).\n",
        "- [ ] Submit your final predictions to our Kaggle competition. Optionally, go to **My Submissions**, and _\"you may select up to 1 submission to be used to count towards your final leaderboard score.\"_\n",
        "- [ ] Commit your notebook to your fork of the GitHub repo.\n",
        "- [ ] Read [Maximizing Scarce Maintenance Resources with Data: Applying predictive modeling, precision at k, and clustering to optimize impact](http://archive.is/DelgE), by Lambda DS3 student Michael Brady. His blog post extends the Tanzania Waterpumps scenario, far beyond what's in the lecture notebook.\n",
        "\n",
        "\n",
        "## Stretch Goals\n",
        "\n",
        "### Reading\n",
        "\n",
        "- [Attacking discrimination with smarter machine learning](https://research.google.com/bigpicture/attacking-discrimination-in-ml/), by Google Research, with  interactive visualizations. _\"A threshold classifier essentially makes a yes/no decision, putting things in one category or another. We look at how these classifiers work, ways they can potentially be unfair, and how you might turn an unfair classifier into a fairer one. As an illustrative example, we focus on loan granting scenarios where a bank may grant or deny a loan based on a single, automatically computed number such as a credit score.\"_\n",
        "- [Notebook about how to calculate expected value from a confusion matrix by treating it as a cost-benefit matrix](https://github.com/podopie/DAT18NYC/blob/master/classes/13-expected_value_cost_benefit_analysis.ipynb)\n",
        "- [Visualizing Machine Learning Thresholds to Make Better Business Decisions](https://blog.insightdatascience.com/visualizing-machine-learning-thresholds-to-make-better-business-decisions-4ab07f823415)\n",
        "\n",
        "\n",
        "### Doing\n",
        "- [ ] Share visualizations in our Slack channel!\n",
        "- [ ] RandomizedSearchCV / GridSearchCV, for model selection. (See module 3 assignment notebook)\n",
        "- [ ] Stacking Ensemble. (See module 3 assignment notebook)\n",
        "- [ ] More Categorical Encoding. (See module 2 assignment notebook)"
      ]
    },
    {
      "cell_type": "code",
      "metadata": {
        "id": "lsbRiKBoB5RE"
      },
      "source": [
        "%%capture\n",
        "import sys\n",
        "\n",
        "# If you're on Colab:\n",
        "if 'google.colab' in sys.modules:\n",
        "    DATA_PATH = 'https://raw.githubusercontent.com/LambdaSchool/DS-Unit-2-Kaggle-Challenge/master/data/'\n",
        "    !pip install category_encoders==2.*\n",
        "\n",
        "# If you're working locally:\n",
        "else:\n",
        "    DATA_PATH = '../data/'"
      ],
      "execution_count": 19,
      "outputs": []
    },
    {
      "cell_type": "code",
      "metadata": {
        "id": "i4p4fwmF--Oq"
      },
      "source": [
        "%matplotlib inline\n",
        "import category_encoders as ce\n",
        "import matplotlib.pyplot as plt\n",
        "import numpy as np\n",
        "import pandas as pd\n",
        "import seaborn as sns\n",
        "from sklearn.impute import SimpleImputer\n",
        "from sklearn.metrics import accuracy_score\n",
        "from sklearn.model_selection import train_test_split\n",
        "from sklearn.pipeline import make_pipeline\n",
        "from sklearn.preprocessing import FunctionTransformer\n",
        "from sklearn.ensemble import RandomForestClassifier\n"
      ],
      "execution_count": 33,
      "outputs": []
    },
    {
      "cell_type": "code",
      "metadata": {
        "id": "BVA1lph8CcNX"
      },
      "source": [
        "import pandas as pd\n",
        "\n",
        "# Merge train_features.csv & train_labels.csv\n",
        "train = pd.merge(pd.read_csv(DATA_PATH+'waterpumps/train_features.csv'), \n",
        "                 pd.read_csv(DATA_PATH+'waterpumps/train_labels.csv'))\n",
        "\n",
        "# Read test_features.csv & sample_submission.csv\n",
        "test = pd.read_csv(DATA_PATH+'waterpumps/test_features.csv')\n",
        "sample_submission = pd.read_csv(DATA_PATH+'waterpumps/sample_submission.csv')"
      ],
      "execution_count": 34,
      "outputs": []
    },
    {
      "cell_type": "code",
      "metadata": {
        "id": "dpSnXXed90fz"
      },
      "source": [
        "# split train into train and val \n",
        "from sklearn.model_selection import train_test_split\n",
        "train , val = train_test_split(train, test_size=len(test), \n",
        "                               stratify = train['status_group'], random_state = 42)"
      ],
      "execution_count": 35,
      "outputs": []
    },
    {
      "cell_type": "code",
      "metadata": {
        "id": "709pzmSm-WdP"
      },
      "source": [
        "def wrangle(X):\n",
        "\n",
        "  #prevent SettingWithCopy warning\n",
        "  X = X.copy()\n",
        "\n",
        "  #replace really small nums in latitude with zeros\n",
        "  X['latitude'] = X['latitude'].replace(-2.000000e-08, 0)\n",
        "\n",
        "  #for both cols replace zeros with nans:\n",
        "  cols_with_zeros = ['longitude', 'latitude', 'construction_year', 'public_meeting', ]\n",
        "  for col in cols_with_zeros:\n",
        "    X[col] = X[col].replace(0, np.nan)\n",
        "\n",
        "  X['date_recorded'] = pd.to_datetime(X['date_recorded'])\n",
        "  X['day_recorded'] = pd.DatetimeIndex(X['date_recorded']).day\n",
        "  X['month_recorded'] = pd.DatetimeIndex(X['date_recorded']).month\n",
        "  X['year_recorded'] = pd.DatetimeIndex(X['date_recorded']).year\n",
        "  X['years_since_construction'] = X['year_recorded'] - X['construction_year']\n",
        "\n",
        "  # Reduce cardinality for funder feature ...\n",
        "  top49 = train['funder'].value_counts()[:49].index\n",
        "  X.loc[~X['funder'].isin(top49), 'funder'] = 'other'\n",
        "\n",
        "  #enough water?\n",
        "  X['enough'] = np.where(X['quantity'] == 'enough', 1, 0)\n",
        "\n",
        "\n",
        "  #peple per water\n",
        "  X['pop_per_water'] = X['amount_tsh'] / X['population']\n",
        "\n",
        "  #drop one of the same/almost same cols, cols with a lot of missing data\n",
        "  X = X.drop(columns= ['quantity_group', 'date_recorded', 'payment_type', 'num_private',  \n",
        "                       'source_class', 'source_type', 'waterpoint_type_group', 'quality_group',\n",
        "                       'extraction_type_group', 'extraction_type_class', 'management_group', 'scheme_management'])\n",
        "  \n",
        "  #replace infinity nyms with nul vals\n",
        "  X = X.replace([np.inf, -np.inf], np.nan)\n",
        "\n",
        "  #return wrangled dataset\n",
        "  return X\n"
      ],
      "execution_count": 36,
      "outputs": []
    },
    {
      "cell_type": "code",
      "metadata": {
        "id": "4mA-6eHl-hvn"
      },
      "source": [
        "#wrangle train test and val the same way\n",
        "test = wrangle(test)\n",
        "train = wrangle(train)\n",
        "val = wrangle(val)"
      ],
      "execution_count": 37,
      "outputs": []
    },
    {
      "cell_type": "code",
      "metadata": {
        "colab": {
          "base_uri": "https://localhost:8080/"
        },
        "id": "JZI5OGVt-iw3",
        "outputId": "73aff1f4-df40-4a1d-d368-ac2e25d02f85"
      },
      "source": [
        "#select features\n",
        "target = 'status_group'\n",
        "\n",
        "#get a data frame with all features\n",
        "train_features = train.drop(columns = [target, 'id', 'recorded_by'])\n",
        "\n",
        "#get numeric features\n",
        "numeric = train_features.select_dtypes(include='number').columns.tolist()\n",
        "\n",
        "#get cardinality of categorical colummns\n",
        "cardinality = train_features.select_dtypes(exclude = 'number').nunique()\n",
        "\n",
        "#exlude columns with cardinality more than 50 \n",
        "categorical = cardinality[cardinality <= 50 ].index.tolist()\n",
        "\n",
        "#combine\n",
        "features = categorical + numeric\n",
        "\n",
        "print(features)"
      ],
      "execution_count": 38,
      "outputs": [
        {
          "output_type": "stream",
          "text": [
            "['funder', 'basin', 'region', 'public_meeting', 'permit', 'extraction_type', 'management', 'payment', 'water_quality', 'quantity', 'source', 'waterpoint_type', 'amount_tsh', 'gps_height', 'longitude', 'latitude', 'region_code', 'district_code', 'population', 'construction_year', 'day_recorded', 'month_recorded', 'year_recorded', 'years_since_construction', 'enough', 'pop_per_water']\n"
          ],
          "name": "stdout"
        }
      ]
    },
    {
      "cell_type": "code",
      "metadata": {
        "id": "-jO5gfSU-l0Z"
      },
      "source": [
        "#create train, test, and val y vectors and X matrices\n",
        "X_train = train[features]\n",
        "y_train = train[target]\n",
        "X_val = val[features]\n",
        "y_val = val[target]\n",
        "X_test = test[features]"
      ],
      "execution_count": 39,
      "outputs": []
    },
    {
      "cell_type": "code",
      "metadata": {
        "colab": {
          "base_uri": "https://localhost:8080/"
        },
        "id": "WyPWbPZQ-uJD",
        "outputId": "2dbf11b9-c46e-4314-9845-b082ac0579e7"
      },
      "source": [
        "#create a pipeline\n",
        "#make and fit pipeline\n",
        "pipeline = make_pipeline(\n",
        "    ce.OrdinalEncoder(),\n",
        "    SimpleImputer(strategy='mean'),\n",
        "    #StandardScaler(),\n",
        "    #SelectKBest(f_regression, k = 40),\n",
        "    RandomForestClassifier(min_samples_leaf=10, max_depth = 30, random_state=42, n_jobs=-1)\n",
        ")\n",
        "\n",
        "#get scores \n",
        "pipeline.fit(X_train, y_train)\n",
        "print('Validation Accuracy', pipeline.score(X_val, y_val))"
      ],
      "execution_count": 41,
      "outputs": [
        {
          "output_type": "stream",
          "text": [
            "Validation Accuracy 0.7996239030505642\n"
          ],
          "name": "stdout"
        }
      ]
    },
    {
      "cell_type": "code",
      "metadata": {
        "colab": {
          "base_uri": "https://localhost:8080/",
          "height": 402
        },
        "id": "P50hOYo7_Tw3",
        "outputId": "e13836f4-3373-432f-8f86-10a6afaf3220"
      },
      "source": [
        "from sklearn.metrics import plot_confusion_matrix\n",
        "plot_confusion_matrix(pipeline, X_val, y_val,values_format='.0f', xticks_rotation='vertical')"
      ],
      "execution_count": 42,
      "outputs": [
        {
          "output_type": "execute_result",
          "data": {
            "text/plain": [
              "<sklearn.metrics._plot.confusion_matrix.ConfusionMatrixDisplay at 0x7f1303337198>"
            ]
          },
          "metadata": {
            "tags": []
          },
          "execution_count": 42
        },
        {
          "output_type": "display_data",
          "data": {
            "image/png": "[encoded data removed]",
            "text/plain": [
              "<Figure size 432x288 with 2 Axes>"
            ]
          },
          "metadata": {
            "tags": [],
            "needs_background": "light"
          }
        }
      ]
    },
    {
      "cell_type": "code",
      "metadata": {
        "colab": {
          "base_uri": "https://localhost:8080/"
        },
        "id": "6V29BdgI_eBz",
        "outputId": "c48ea7fc-fb11-424e-e136-4b7fe9bca5d9"
      },
      "source": [
        "from sklearn.metrics import classification_report\n",
        "y_pred = pipeline.predict(X_val)\n",
        "print(classification_report(y_val, y_pred))"
      ],
      "execution_count": 43,
      "outputs": [
        {
          "output_type": "stream",
          "text": [
            "                         precision    recall  f1-score   support\n",
            "\n",
            "             functional       0.78      0.92      0.84      7798\n",
            "functional needs repair       0.68      0.20      0.31      1043\n",
            "         non functional       0.85      0.74      0.79      5517\n",
            "\n",
            "               accuracy                           0.80     14358\n",
            "              macro avg       0.77      0.62      0.65     14358\n",
            "           weighted avg       0.80      0.80      0.78     14358\n",
            "\n"
          ],
          "name": "stdout"
        }
      ]
    },
    {
      "cell_type": "code",
      "metadata": {
        "id": "5D6oKLkf_60s"
      },
      "source": [
        "y_train = y_train!= 'functional'\n",
        "y_val = y_val != 'functional'"
      ],
      "execution_count": 44,
      "outputs": []
    },
    {
      "cell_type": "code",
      "metadata": {
        "colab": {
          "base_uri": "https://localhost:8080/"
        },
        "id": "qOw4_IEd_9qg",
        "outputId": "ff83cb1a-b073-48a0-e995-4c5effdcb0d1"
      },
      "source": [
        "pipeline.fit(X_train, y_train)\n",
        "y_pred = pipeline.predict(X_val)"
      ],
      "execution_count": 45,
      "outputs": [
        {
          "output_type": "stream",
          "text": [
            "/usr/local/lib/python3.6/dist-packages/category_encoders/utils.py:21: FutureWarning: is_categorical is deprecated and will be removed in a future version.  Use is_categorical_dtype instead\n",
            "  elif pd.api.types.is_categorical(cols):\n"
          ],
          "name": "stderr"
        }
      ]
    },
    {
      "cell_type": "code",
      "metadata": {
        "colab": {
          "base_uri": "https://localhost:8080/"
        },
        "id": "cHHNjYqiAvSF",
        "outputId": "ca64208e-b81c-4a19-fd6f-87b1ca83f589"
      },
      "source": [
        "pipeline.predict_proba(X_val)"
      ],
      "execution_count": 46,
      "outputs": [
        {
          "output_type": "execute_result",
          "data": {
            "text/plain": [
              "array([[0.00212976, 0.99787024],\n",
              "       [0.26471508, 0.73528492],\n",
              "       [0.97993347, 0.02006653],\n",
              "       ...,\n",
              "       [0.80047631, 0.19952369],\n",
              "       [0.4304698 , 0.5695302 ],\n",
              "       [0.92762284, 0.07237716]])"
            ]
          },
          "metadata": {
            "tags": []
          },
          "execution_count": 46
        }
      ]
    },
    {
      "cell_type": "code",
      "metadata": {
        "colab": {
          "base_uri": "https://localhost:8080/"
        },
        "id": "4IgWpFSfA04q",
        "outputId": "3cd20cf8-2072-4346-d2b6-e12a104255c2"
      },
      "source": [
        "threshold = 0.8\n",
        "pipeline.predict_proba(X_val)[:, 1] > threshold"
      ],
      "execution_count": 49,
      "outputs": [
        {
          "output_type": "execute_result",
          "data": {
            "text/plain": [
              "array([ True, False, False, ..., False, False, False])"
            ]
          },
          "metadata": {
            "tags": []
          },
          "execution_count": 49
        }
      ]
    },
    {
      "cell_type": "code",
      "metadata": {
        "colab": {
          "base_uri": "https://localhost:8080/",
          "height": 321
        },
        "id": "94Jh3TjpA9U8",
        "outputId": "1c7280de-e38c-43a6-a7a8-903eb541cce0"
      },
      "source": [
        "import seaborn as sns \n",
        "y_pred_proba = pipeline.predict_proba(X_val)[:,1]\n",
        "sns.distplot(y_pred_proba);"
      ],
      "execution_count": 50,
      "outputs": [
        {
          "output_type": "stream",
          "text": [
            "/usr/local/lib/python3.6/dist-packages/seaborn/distributions.py:2557: FutureWarning: `distplot` is a deprecated function and will be removed in a future version. Please adapt your code to use either `displot` (a figure-level function with similar flexibility) or `histplot` (an axes-level function for histograms).\n",
            "  warnings.warn(msg, FutureWarning)\n"
          ],
          "name": "stderr"
        },
        {
          "output_type": "display_data",
          "data": {
            "image/png": "[encoded data removed]",
            "text/plain": [
              "<Figure size 432x288 with 1 Axes>"
            ]
          },
          "metadata": {
            "tags": [],
            "needs_background": "light"
          }
        }
      ]
    }
  ]
}